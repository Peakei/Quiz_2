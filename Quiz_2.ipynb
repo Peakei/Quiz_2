{
 "cells": [
  {
   "cell_type": "markdown",
   "metadata": {},
   "source": [
    "<div class=\"image\">\n",
    "\n",
    "  <img style=\"float: right;\" src=\"https://pku.org.uk/head.png\" width=\"45%\" align=\"right\">\n",
    "      <h4>\n",
    "          <p style=\"font-size:25pt\">UK19B307 AI Analytics</p>\n",
    "          <p style=\"font-size:15pt\">Quiz 2</p>\n",
    "      </h4>\n",
    "<h5>\n",
    "    <p> Peking University</p>\n",
    "    <p> Demonstrable Labs</p>\n",
    "</h5>\n",
    "</div>"
   ]
  },
  {
   "cell_type": "markdown",
   "metadata": {},
   "source": [
    "### Please doule click this block and enter your name / ID:\n",
    "\n",
    "- Name: Samuel Mensah\n",
    "- ID: 1901213965"
   ]
  },
  {
   "cell_type": "markdown",
   "metadata": {},
   "source": [
    "<div class=\"alert alert-warning\">\n",
    "<b>QUESTION 1: </b> \n",
    "\n",
    "1, Define a string: `txt = 'USA#UK#Japan#Ghana'`.\n",
    "    \n",
    "2, Write code to transform the string with the hashtag separator into a list of words. Print the list, the expected output is:`['USA', 'UK', 'Japan', 'Ghana']`\n",
    "    \n",
    "</div>"
   ]
  },
  {
   "cell_type": "code",
   "execution_count": 5,
   "metadata": {},
   "outputs": [
    {
     "name": "stdout",
     "output_type": "stream",
     "text": [
      "USA,UK,Japan,Ghana\n"
     ]
    }
   ],
   "source": [
    "txt = 'USA#UK#Japan#Ghana'\n",
    "print('USA#UK#Japan#Ghana'.replace('#',','))"
   ]
  },
  {
   "cell_type": "markdown",
   "metadata": {},
   "source": [
    "<div class=\"alert alert-warning\">\n",
    "<b>QUESTION 2: </b> \n",
    "\n",
    "1, Define a string: `string_1 = 'John is the father of Mary.'`.\n",
    "    \n",
    "2, Write code to replace `John` with `Johnson`in the string. Print the new string, the expected output is:`Johnson is the father of Mary.`\n",
    "    \n",
    "</div>"
   ]
  },
  {
   "cell_type": "code",
   "execution_count": 1,
   "metadata": {},
   "outputs": [
    {
     "name": "stdout",
     "output_type": "stream",
     "text": [
      "Johnson is the father of Mary.\n"
     ]
    }
   ],
   "source": [
    "string_1 = 'John is the father of Mary.'\n",
    "print('John is the father of Mary.'.replace('John', 'Johnson'))"
   ]
  },
  {
   "cell_type": "markdown",
   "metadata": {},
   "source": [
    "<div class=\"alert alert-warning\">\n",
    "<b>QUESTION 3:</b>\n",
    "\n",
    "Create a function called `sqr_root_div_by_2` which takes an argument `x`. The function would calculate the square root of the argument, then divide the result of the square root by 2. Return the final result. If we call the function with `9`, it should return `1.5`. \n",
    "    \n",
    "Please make sure that the function only applies to real numbers, so should the user attempt to call the function with a negative number the function should **raise** a `ValueError`.\n",
    "\n",
    "</div>"
   ]
  },
  {
   "cell_type": "code",
   "execution_count": null,
   "metadata": {},
   "outputs": [],
   "source": [
    "def sqr_root_div_by_2(x):\n",
    "    return \n",
    "    \n"
   ]
  },
  {
   "cell_type": "markdown",
   "metadata": {},
   "source": [
    "<div class=\"alert alert-warning\">\n",
    "<b>QUESTION 4:</b> \n",
    "\n",
    "Create a file (`random.txt`) in the current directory and write `This is a random message.` to the file.\n",
    "    \n",
    "</div>"
   ]
  },
  {
   "cell_type": "code",
   "execution_count": 2,
   "metadata": {},
   "outputs": [],
   "source": [
    "file =open('random.txt', 'w')\n",
    "file.write('This is a random message.')\n",
    "file.close()"
   ]
  },
  {
   "cell_type": "markdown",
   "metadata": {},
   "source": [
    "<div class=\"alert alert-warning\">\n",
    "<b>QUESTION 5:</b> \n",
    "\n",
    "Read the file `random.txt` created in the previous question and print the length of the content string (<code>This is a random message.</code>) in the file. The output should be `25`.\n",
    "</div>"
   ]
  },
  {
   "cell_type": "code",
   "execution_count": null,
   "metadata": {},
   "outputs": [],
   "source": [
    "file =open('random.txt', 'r')\n",
    "amount_written = file."
   ]
  },
  {
   "cell_type": "markdown",
   "metadata": {},
   "source": [
    "<div class=\"alert alert-warning\">\n",
    "<b>QUESTION 6: </b> \n",
    "\n",
    "Please fill the gaps in the code below so that the output would be `Invalid type conversion.`.\n",
    "    \n",
    "```python\n",
    "try:\n",
    "    num = 'it'\n",
    "    num = int(num)\n",
    "except ________:\n",
    "    print('Invalid type conversion.')```"
   ]
  },
  {
   "cell_type": "code",
   "execution_count": 3,
   "metadata": {},
   "outputs": [
    {
     "ename": "SyntaxError",
     "evalue": "invalid syntax (<ipython-input-3-e676f98e796c>, line 4)",
     "output_type": "error",
     "traceback": [
      "\u001b[1;36m  File \u001b[1;32m\"<ipython-input-3-e676f98e796c>\"\u001b[1;36m, line \u001b[1;32m4\u001b[0m\n\u001b[1;33m    except Invalid_type_conversion\u001b[0m\n\u001b[1;37m                                  ^\u001b[0m\n\u001b[1;31mSyntaxError\u001b[0m\u001b[1;31m:\u001b[0m invalid syntax\n"
     ]
    }
   ],
   "source": [
    "try:\n",
    "    num ='it'\n",
    "    num = int(num)\n",
    "except Invalid_type_conversion\n",
    "    print('Invalid type conversion.')"
   ]
  },
  {
   "cell_type": "markdown",
   "metadata": {},
   "source": [
    "<div class=\"alert alert-warning\">\n",
    "<b>QUESTION 7: </b> \n",
    "\n",
    "Please fill the gaps in the code below so that the output would be `The average value of the numbers in the list is: 7.08.`.\n",
    "    \n",
    "```python\n",
    "num_list = [2, 1, 9, 7, 3, 4, 5, 10, 11, 22, 4, 7]\n",
    "print('The average value of the numbers in the list is: {___}.'.format(____)```"
   ]
  },
  {
   "cell_type": "code",
   "execution_count": null,
   "metadata": {},
   "outputs": [],
   "source": [
    "num_list = [2, 1, 9, 7, 3, 4, 5, 10, 11, 22, 4, 7]\n",
    "print('The average value of the numbers in the list is: {___}.'.format(____)"
   ]
  },
  {
   "cell_type": "markdown",
   "metadata": {},
   "source": [
    "<div class=\"alert alert-warning\">\n",
    "<b>QUESTION 8:</b> \n",
    "\n",
    "Create a function called `divisor` which takes one numerical argument. The function would return the value of 100 divided by the argument. If the function is called with the argument being 0, it will raise `AssertionError` with the message `Can't divide by zero.`.\n",
    "</div>"
   ]
  },
  {
   "cell_type": "code",
   "execution_count": null,
   "metadata": {},
   "outputs": [],
   "source": [
    "def divisor(x):\n",
    "    ret"
   ]
  },
  {
   "cell_type": "markdown",
   "metadata": {},
   "source": [
    "<div class=\"alert alert-warning\">\n",
    "<b>QUESTION 9: </b> \n",
    "\n",
    "Please fill the gaps in the code below:\n",
    "```python\n",
    "try:\n",
    "    _______\n",
    "except ZeroDivisionError:\n",
    "    print('Divided by zero.')\n",
    "except:\n",
    "    print('Something is wrong.')\n",
    "finally:\n",
    "    print('This is executed last.')```\n",
    "    \n",
    "The output of the code should be:\n",
    "```\n",
    "Something is wrong.\n",
    "This is executed last.```"
   ]
  },
  {
   "cell_type": "code",
   "execution_count": 8,
   "metadata": {},
   "outputs": [
    {
     "name": "stdout",
     "output_type": "stream",
     "text": [
      "Divided by zero.\n",
      "This is executed last.\n"
     ]
    },
    {
     "ename": "ZeroDivisionError",
     "evalue": "division by zero",
     "output_type": "error",
     "traceback": [
      "\u001b[1;31m---------------------------------------------------------------------------\u001b[0m",
      "\u001b[1;31mZeroDivisionError\u001b[0m                         Traceback (most recent call last)",
      "\u001b[1;32m<ipython-input-8-cb868ca56ce5>\u001b[0m in \u001b[0;36m<module>\u001b[1;34m\u001b[0m\n\u001b[0;32m      1\u001b[0m \u001b[1;32mtry\u001b[0m\u001b[1;33m:\u001b[0m\u001b[1;33m\u001b[0m\u001b[1;33m\u001b[0m\u001b[0m\n\u001b[1;32m----> 2\u001b[1;33m      \u001b[0mprint\u001b[0m\u001b[1;33m(\u001b[0m\u001b[1;36m1\u001b[0m\u001b[1;33m/\u001b[0m\u001b[1;36m0\u001b[0m\u001b[1;33m)\u001b[0m\u001b[1;33m\u001b[0m\u001b[1;33m\u001b[0m\u001b[0m\n\u001b[0m\u001b[0;32m      3\u001b[0m \u001b[1;32mexcept\u001b[0m \u001b[0mZeroDivisionError\u001b[0m\u001b[1;33m:\u001b[0m\u001b[1;33m\u001b[0m\u001b[1;33m\u001b[0m\u001b[0m\n\u001b[0;32m      4\u001b[0m     \u001b[0mprint\u001b[0m\u001b[1;33m(\u001b[0m\u001b[1;34m'Divided by zero.'\u001b[0m\u001b[1;33m)\u001b[0m\u001b[1;33m\u001b[0m\u001b[1;33m\u001b[0m\u001b[0m\n\u001b[0;32m      5\u001b[0m     \u001b[1;32mraise\u001b[0m\u001b[1;33m\u001b[0m\u001b[1;33m\u001b[0m\u001b[0m\n",
      "\u001b[1;31mZeroDivisionError\u001b[0m: division by zero"
     ]
    }
   ],
   "source": [
    "try:\n",
    "     print(1/0)\n",
    "except ZeroDivisionError:\n",
    "    print('Divided by zero.')\n",
    "except:\n",
    "    print('Something is wrong.')\n",
    "finally:\n",
    "    print('This is executed last.')\n",
    "    "
   ]
  },
  {
   "cell_type": "markdown",
   "metadata": {},
   "source": [
    "<div class=\"alert alert-warning\">\n",
    "<b>QUESTION 10:</b>\n",
    "\n",
    "1, Define a list:\n",
    "\n",
    "`int_nums = [2, 3, 5, 6, 8, 9, 11, 12, 15, 18]`\n",
    "\n",
    "<br>\n",
    "2, Use <b>list comprehension</b> to create a list called <code>even_nums</code>, which contains the even numbers in <code>int_nums</code>.\n",
    "\n",
    "Print <code>even_nums</code>. The expected output is :\n",
    "\n",
    "<code>[2, 6, 8, 12, 18]</code>\n",
    "\n",
    "</div>"
   ]
  },
  {
   "cell_type": "code",
   "execution_count": 6,
   "metadata": {},
   "outputs": [
    {
     "ename": "SyntaxError",
     "evalue": "invalid syntax (<ipython-input-6-fc9163db3976>, line 2)",
     "output_type": "error",
     "traceback": [
      "\u001b[1;36m  File \u001b[1;32m\"<ipython-input-6-fc9163db3976>\"\u001b[1;36m, line \u001b[1;32m2\u001b[0m\n\u001b[1;33m    even_nums = [x if x%2==0 for x in int_nums]\u001b[0m\n\u001b[1;37m                               ^\u001b[0m\n\u001b[1;31mSyntaxError\u001b[0m\u001b[1;31m:\u001b[0m invalid syntax\n"
     ]
    }
   ],
   "source": [
    "int_nums = [2, 3, 5, 6, 8, 9, 11, 12, 15, 18]\n",
    "even_nums = [x if x%2==0 for x in int_nums]\n",
    "print(even_nums)"
   ]
  },
  {
   "cell_type": "markdown",
   "metadata": {},
   "source": [
    "<div class=\"alert alert-warning\">\n",
    "<b>QUESTION 11:</b>\n",
    "\n",
    "1, Define a list:\n",
    "\n",
    "`int_nums = [2, 3, 5, 6, 8, 9, 11, 12, 15, 18]`\n",
    "\n",
    "<br>\n",
    "2, Use <code>filter</code> function to remove the even numbers from the list. Print the new list, the expected output is :\n",
    "\n",
    "<code>[3, 5, 9, 11, 15]</code>\n",
    "\n",
    "</div>"
   ]
  },
  {
   "cell_type": "code",
   "execution_count": 7,
   "metadata": {},
   "outputs": [
    {
     "ename": "IndentationError",
     "evalue": "expected an indented block (<ipython-input-7-8474f72fa78c>, line 2)",
     "output_type": "error",
     "traceback": [
      "\u001b[1;36m  File \u001b[1;32m\"<ipython-input-7-8474f72fa78c>\"\u001b[1;36m, line \u001b[1;32m2\u001b[0m\n\u001b[1;33m    int_nums = [2, 3, 5, 6, 8, 9, 11, 12, 15, 18]\u001b[0m\n\u001b[1;37m           ^\u001b[0m\n\u001b[1;31mIndentationError\u001b[0m\u001b[1;31m:\u001b[0m expected an indented block\n"
     ]
    }
   ],
   "source": [
    "def odd_nums(n):\n",
    "int_nums = [2, 3, 5, 6, 8, 9, 11, 12, 15, 18]\n",
    "filt = list(filter(odd_nums, int_nums))\n",
    "print(filt)"
   ]
  },
  {
   "cell_type": "markdown",
   "metadata": {},
   "source": [
    "<div class=\"alert alert-warning\">\n",
    "<b>QUESTION 12: </b> \n",
    "\n",
    "Please fill the gaps in the code below so that the output of it would be `Numbers: 1.24 2.3233 3.3371`.\n",
    "    \n",
    "```python\n",
    "nums = [2.3233, 1.2355, 3.3371]\n",
    "msg = \"Numbers: {____} {____} {____}\".format(nums[0],nums[1],nums[2])\n",
    "print(msg)```"
   ]
  },
  {
   "cell_type": "code",
   "execution_count": 8,
   "metadata": {},
   "outputs": [
    {
     "name": "stdout",
     "output_type": "stream",
     "text": [
      "Numbers: 1.24 2.3233 3.3371\n"
     ]
    }
   ],
   "source": [
    "nums = [2.3233, 1.2355, 3.3371]\n",
    "msg = \"Numbers: {:.2f} {} {}\".format(nums[1],nums[0],nums[2])\n",
    "print(msg)\n"
   ]
  },
  {
   "cell_type": "markdown",
   "metadata": {},
   "source": [
    "<div class=\"alert alert-warning\">\n",
    "<b>QUESTION 13:</b>\n",
    "\n",
    "1, Define a string called `string_london`:\n",
    "\n",
    "`string_london = 'London is the capital and largest city of England and the United Kingdom'`\n",
    "\n",
    "<br>\n",
    "2, Use <b> one line of code</b> to create a list called <code>length_words</code>, which contains the length of each word in <code>string_london</code>.\n",
    "\n",
    "Print <code>length_words</code>. The expected output is :\n",
    "\n",
    "<code>[10, 7, 6, 2, 1, 6, 8, 10, 7, 2, 6]</code>\n",
    "\n",
    "<br>\n",
    "<b>DO NOT</b> create the list using <code>length_list=[10, 7, 6, 2, 1, 6, 8, 10, 7, 2, 6]</code>.\n",
    "       \n",
    "</div>"
   ]
  },
  {
   "cell_type": "code",
   "execution_count": 7,
   "metadata": {},
   "outputs": [
    {
     "ename": "TypeError",
     "evalue": "'int' object is not iterable",
     "output_type": "error",
     "traceback": [
      "\u001b[1;31m---------------------------------------------------------------------------\u001b[0m",
      "\u001b[1;31mTypeError\u001b[0m                                 Traceback (most recent call last)",
      "\u001b[1;32m<ipython-input-7-9e127ee016d4>\u001b[0m in \u001b[0;36m<module>\u001b[1;34m\u001b[0m\n\u001b[0;32m      1\u001b[0m \u001b[0mstring_london\u001b[0m \u001b[1;33m=\u001b[0m \u001b[1;34m'London is the capital and largest city of England and the United Kingdom'\u001b[0m\u001b[1;33m\u001b[0m\u001b[1;33m\u001b[0m\u001b[0m\n\u001b[1;32m----> 2\u001b[1;33m \u001b[0mlength_words\u001b[0m \u001b[1;33m=\u001b[0m \u001b[0mlist\u001b[0m\u001b[1;33m(\u001b[0m\u001b[0mlen\u001b[0m\u001b[1;33m(\u001b[0m\u001b[0mstring_london\u001b[0m\u001b[1;33m)\u001b[0m\u001b[1;33m)\u001b[0m\u001b[1;33m\u001b[0m\u001b[1;33m\u001b[0m\u001b[0m\n\u001b[0m\u001b[0;32m      3\u001b[0m \u001b[0mprint\u001b[0m\u001b[1;33m(\u001b[0m\u001b[0mlength_words\u001b[0m\u001b[1;33m)\u001b[0m\u001b[1;33m\u001b[0m\u001b[1;33m\u001b[0m\u001b[0m\n",
      "\u001b[1;31mTypeError\u001b[0m: 'int' object is not iterable"
     ]
    }
   ],
   "source": [
    "string_london = 'London is the capital and largest city of England and the United Kingdom'\n",
    "length_words = list(len(string_london))\n",
    "print(length_words)"
   ]
  },
  {
   "cell_type": "markdown",
   "metadata": {},
   "source": [
    "<div class=\"alert alert-warning\">\n",
    "<b>QUESTION 14:</b>\n",
    "\n",
    "1, Define a list called `list_1`:\n",
    "    \n",
    "`list_1 = ['A','P','K','A','B','B','U','A','B','B','A','B']`\n",
    "\n",
    "<br>\n",
    "2, Use <b> list comprehension</b> to create a list called <code>list_2</code>, which contains all the elements from <code>list_1</code> except <code>'A'</code> and <code>'B'</code>.\n",
    "\n",
    "Print <code>list_2</code>. The expected output is :\n",
    "\n",
    "<code>['P', 'K', 'U']</code>\n",
    "    \n",
    "</div>"
   ]
  },
  {
   "cell_type": "code",
   "execution_count": null,
   "metadata": {},
   "outputs": [],
   "source": [
    "list_1 = ['A','P','K','A','B','B','U','A','B','B','A','B']\n",
    "list_2 = remove ('A','B')"
   ]
  },
  {
   "cell_type": "markdown",
   "metadata": {},
   "source": [
    "<div class=\"alert alert-warning\">\n",
    "<b>QUESTION 15:</b>\n",
    "\n",
    "1, Define a list called `nums`:\n",
    "\n",
    "<code>nums = [-1, -2, -3, 4, 5, -6, -7, -8]</code>\n",
    "\n",
    "<br>\n",
    "2, Write <b>ONE LINE</b> of code to replace the negative numbers in <code>nums</code> with <code>'-'</code> and positive numbers with <code>'+'</code>. Print the new list.\n",
    "\n",
    "The expected output would be:\n",
    "<code>['-', '-', '-', '+', '+', '-', '-', '-']</code>\n",
    "\n",
    "<br>\n",
    "<b>DO NOT</b> write <code>nums = ['-', '-', '-', '+', '+', '-', '-', '-']</code>.\n",
    "    \n",
    "</div>"
   ]
  },
  {
   "cell_type": "code",
   "execution_count": null,
   "metadata": {},
   "outputs": [],
   "source": [
    "nums = [-1, -2, -3, 4, 5, -6, -7, -8]\n",
    "nums ="
   ]
  },
  {
   "cell_type": "markdown",
   "metadata": {},
   "source": [
    "<div class=\"alert alert-warning\">\n",
    "<b>QUESTION 16:</b>\n",
    "\n",
    "1, Define a nested list: `nested_list = [[[1,2,3], [4,5,6]], [[7,8,9], [10,11,12]]]`\n",
    "\n",
    "2, Flatten `nested_list` using **list comprehension**. Print the new list, the expected output is: `[1, 2, 3, 4, 5, 6, 7, 8, 9, 10, 11, 12]`.\n",
    "\n",
    "</div>"
   ]
  },
  {
   "cell_type": "code",
   "execution_count": 11,
   "metadata": {},
   "outputs": [
    {
     "name": "stdout",
     "output_type": "stream",
     "text": [
      "[[1, 2, 3], [4, 5, 6], [7, 8, 9], [10, 11, 12]]\n"
     ]
    }
   ],
   "source": [
    "nested_list = [[[1,2,3], [4,5,6]], [[7,8,9], [10,11,12]]]\n",
    "flat_list = [num for sub_list in nested_list for num in sub_list]\n",
    "print(flat_list)"
   ]
  },
  {
   "cell_type": "markdown",
   "metadata": {},
   "source": [
    "<div class=\"alert alert-warning\">\n",
    "<b>QUESTION 17:</b>\n",
    "\n",
    "1, Define a list called: `countries = ['afghanistan', 'Barbados', 'bahrain', 'China', 'cameroon', 'Colombia', 'Lesotho']`\n",
    " \n",
    "2, Print the indices of the items start with `c` or `C`. The expected output is:\n",
    "```    \n",
    "3\n",
    "4\n",
    "5```\n",
    "\n",
    "    \n",
    "</div>"
   ]
  },
  {
   "cell_type": "code",
   "execution_count": null,
   "metadata": {},
   "outputs": [],
   "source": []
  },
  {
   "cell_type": "markdown",
   "metadata": {},
   "source": [
    "<div class=\"alert alert-warning\">\n",
    "<b>QUESTION 18:</b>\n",
    "\n",
    "1, Define a dictionary: `num_dict = {'A':123, 'B':234, 'C':345, 'D':456, 'E':567, 'F':678}`.\n",
    "\n",
    "2, Multiply each value in `num_dict` with 10 and print the new dictionary. The output should be: `{'A': 1230, 'B': 2340, 'C': 3450, 'D': 4560, 'E': 5670, 'F': 6780}`."
   ]
  },
  {
   "cell_type": "code",
   "execution_count": 1,
   "metadata": {},
   "outputs": [],
   "source": [
    "num_dict = {'A':123, 'B':234, 'C':345, 'D':456, 'E':567, 'F':678}\n",
    "multiply = list(map(lambda value: value*100, num_dict))"
   ]
  },
  {
   "cell_type": "markdown",
   "metadata": {},
   "source": [
    "<div class=\"alert alert-warning\">\n",
    "<b>QUESTION 19: </b> \n",
    "\n",
    "1, Define a list: `wiki = ['a', 'wiki', 'is', 'run', 'using', 'wiki', 'software']`.\n",
    "\n",
    "2, A new list `word_length` can be generated using the following code:\n",
    "\n",
    "```python\n",
    "wiki_new = []\n",
    "for word in wiki:\n",
    "    if not word.endswith('i'):\n",
    "        wiki_new.append(word.upper())\n",
    "```\n",
    "\n",
    "3, Please generate the list `wiki_new` using list comprehension. Print the list, the expected output is: `['A', 'IS', 'RUN', 'USING', 'SOFTWARE']`."
   ]
  },
  {
   "cell_type": "code",
   "execution_count": 3,
   "metadata": {},
   "outputs": [
    {
     "name": "stdout",
     "output_type": "stream",
     "text": [
      "['A', 'IS', 'RUN', 'USING', 'SOFTWARE']\n"
     ]
    }
   ],
   "source": [
    "wiki = ['a', 'wiki', 'is', 'run', 'using', 'wiki', 'software']\n",
    "word_length =[word.upper() for word in wiki if not word.endswith('i')]\n",
    "print(word_length)"
   ]
  },
  {
   "cell_type": "markdown",
   "metadata": {},
   "source": [
    "<div class=\"alert alert-warning\">\n",
    "<b>QUESTION 20: </b> \n",
    "\n",
    "Write a <b>recursive</b> function that takes `n` as the argument. It would calculate the value of $ \\prod_{x=1}^{n} \\frac{1}{x} $ and return the result.\n",
    "\n",
    "    \n",
    "$ \\prod_{x=1}^{n} \\frac{1}{x} = \\underbrace{1 \\cdot  \\frac{1}{2} \\cdot \\frac{1}{3} \\cdot \\frac{1}{4} \\cdot \\frac{1}{5} \\cdots}_{\\text {from 1/1 to 1/n}} $\n",
    "\n",
    "<br>\n",
    "    \n",
    "Note: \n",
    "    \n",
    "1, The function should return 1 when calling it with argument n = 1.\n",
    " \n",
    "2, Call the function with argument n = 4, it returns the following value:\n",
    "\n",
    "  <p>$ \\prod_{n=1}^{4} \\frac{1}{n} = 1 \\cdot  \\frac{1}{2} \\cdot \\frac{1}{3} \\cdot \\frac{1}{4}=0.041666666666666664 $\n",
    "</p>\n",
    "</div>"
   ]
  },
  {
   "cell_type": "code",
   "execution_count": null,
   "metadata": {},
   "outputs": [],
   "source": []
  }
 ],
 "metadata": {
  "kernelspec": {
   "display_name": "Python 3",
   "language": "python",
   "name": "python3"
  },
  "language_info": {
   "codemirror_mode": {
    "name": "ipython",
    "version": 3
   },
   "file_extension": ".py",
   "mimetype": "text/x-python",
   "name": "python",
   "nbconvert_exporter": "python",
   "pygments_lexer": "ipython3",
   "version": "3.7.4"
  }
 },
 "nbformat": 4,
 "nbformat_minor": 2
}
